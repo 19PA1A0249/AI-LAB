{
  "nbformat": 4,
  "nbformat_minor": 0,
  "metadata": {
    "colab": {
      "name": "AIEXPERIMENT 1 numpy.ipynb",
      "provenance": [],
      "collapsed_sections": [],
      "authorship_tag": "ABX9TyOIoq0tgxNj7upmFSA0svJr",
      "include_colab_link": true
    },
    "kernelspec": {
      "name": "python3",
      "display_name": "Python 3"
    }
  },
  "cells": [
    {
      "cell_type": "markdown",
      "metadata": {
        "id": "view-in-github",
        "colab_type": "text"
      },
      "source": [
        "<a href=\"https://colab.research.google.com/github/19PA1A0249/AI-LAB/blob/master/AIEXPERIMENT_1_numpy.ipynb\" target=\"_parent\"><img src=\"https://colab.research.google.com/assets/colab-badge.svg\" alt=\"Open In Colab\"/></a>"
      ]
    },
    {
      "cell_type": "markdown",
      "metadata": {
        "id": "eKck14JEsE92",
        "colab_type": "text"
      },
      "source": [
        "K SAILESH ; 19PA1A0249 ; EEE-A ; II-I ; AI - Lab experiment 1\n"
      ]
    },
    {
      "cell_type": "markdown",
      "metadata": {
        "id": "cJ2bwK0JnEHZ",
        "colab_type": "text"
      },
      "source": [
        "1) Different ways to create Numpy arrays "
      ]
    },
    {
      "cell_type": "code",
      "metadata": {
        "id": "_VMIqxNblx6P",
        "colab_type": "code",
        "colab": {
          "base_uri": "https://localhost:8080/",
          "height": 34
        },
        "outputId": "48741749-702d-4212-91f2-11b99c03ce4f"
      },
      "source": [
        "import numpy as np\n",
        "a = np.array([4,6,7,8,3,5])\n",
        "print(a)"
      ],
      "execution_count": null,
      "outputs": [
        {
          "output_type": "stream",
          "text": [
            "[4 6 7 8 3 5]\n"
          ],
          "name": "stdout"
        }
      ]
    },
    {
      "cell_type": "code",
      "metadata": {
        "id": "dJL2_NZKpxhy",
        "colab_type": "code",
        "colab": {
          "base_uri": "https://localhost:8080/",
          "height": 51
        },
        "outputId": "ca34fbe4-04f2-4a82-cd63-4a23ff27e36f"
      },
      "source": [
        "a = np.array([[6,8,9],[3,4,6]])\n",
        "print(a)"
      ],
      "execution_count": null,
      "outputs": [
        {
          "output_type": "stream",
          "text": [
            "[[6 8 9]\n",
            " [3 4 6]]\n"
          ],
          "name": "stdout"
        }
      ]
    },
    {
      "cell_type": "markdown",
      "metadata": {
        "id": "hmnLTBUNpZzo",
        "colab_type": "text"
      },
      "source": [
        "2) Add  ,remove  ,modify elements in an array"
      ]
    },
    {
      "cell_type": "code",
      "metadata": {
        "id": "8qis-Gdqm1Ye",
        "colab_type": "code",
        "colab": {
          "base_uri": "https://localhost:8080/",
          "height": 54
        },
        "outputId": "27646e57-4912-4012-db11-2e68a1cde077"
      },
      "source": [
        "import numpy as np\n",
        "a = np.arange(15)\n",
        "b = np.append(a,[15,17])\n",
        "print(b)"
      ],
      "execution_count": null,
      "outputs": [
        {
          "output_type": "stream",
          "text": [
            "[ 0  1  2  3  4  5  6  7  8  9 10 11 12 13 14 15 17]\n"
          ],
          "name": "stdout"
        }
      ]
    },
    {
      "cell_type": "code",
      "metadata": {
        "id": "O5ZlndoCqjeE",
        "colab_type": "code",
        "colab": {
          "base_uri": "https://localhost:8080/",
          "height": 54
        },
        "outputId": "0f9bedd9-b8a0-4a47-c27a-81a1a3d87e99"
      },
      "source": [
        "c = np.delete(a,[9])\n",
        "print(c)"
      ],
      "execution_count": null,
      "outputs": [
        {
          "output_type": "stream",
          "text": [
            "[ 0  1  2  3  4  5  6  7  8 10 11 12 13 14]\n"
          ],
          "name": "stdout"
        }
      ]
    },
    {
      "cell_type": "code",
      "metadata": {
        "id": "Fh9T8v0kqtkt",
        "colab_type": "code",
        "colab": {
          "base_uri": "https://localhost:8080/",
          "height": 34
        },
        "outputId": "d6407bd5-e3c3-42f5-e60a-b7f11d238bc5"
      },
      "source": [
        "d = np.array([1,4,4,6,3,9,5,8])\n",
        "d[d<2]=-9\n",
        "print(d)"
      ],
      "execution_count": null,
      "outputs": [
        {
          "output_type": "stream",
          "text": [
            "[-9  4  4  6  3  9  5  8]\n"
          ],
          "name": "stdout"
        }
      ]
    },
    {
      "cell_type": "markdown",
      "metadata": {
        "id": "N6EbXKB6q2fC",
        "colab_type": "text"
      },
      "source": [
        "3) Arthematic operations on Numpy array"
      ]
    },
    {
      "cell_type": "code",
      "metadata": {
        "id": "D70GZqZGq67J",
        "colab_type": "code",
        "colab": {
          "base_uri": "https://localhost:8080/",
          "height": 223
        },
        "outputId": "3fbb9dfd-5d3c-4e08-85e7-334b467e4706"
      },
      "source": [
        "import numpy as np\n",
        "e = np.array([[6,5,8],[4,8,4]])\n",
        "f = np.array([[2,2,2],[3,3,4]])\n",
        "sum = np.add(e,f)\n",
        "diff = np.subtract(e,f)\n",
        "prod = np.multiply(e,f)\n",
        "quo = np.divide(e,f)\n",
        "mod = np.mod(e,f)\n",
        "pow = np.power(e,f)\n",
        "print(sum)\n",
        "print(diff)\n",
        "print(prod)\n",
        "print(quo)\n",
        "print(mod)\n",
        "print(pow)"
      ],
      "execution_count": null,
      "outputs": [
        {
          "output_type": "stream",
          "text": [
            "[[ 8  7 10]\n",
            " [ 7 11  8]]\n",
            "[[4 3 6]\n",
            " [1 5 0]]\n",
            "[[12 10 16]\n",
            " [12 24 16]]\n",
            "[[3.         2.5        4.        ]\n",
            " [1.33333333 2.66666667 1.        ]]\n",
            "[[0 1 0]\n",
            " [1 2 0]]\n",
            "[[ 36  25  64]\n",
            " [ 64 512 256]]\n"
          ],
          "name": "stdout"
        }
      ]
    },
    {
      "cell_type": "markdown",
      "metadata": {
        "id": "FLohvjZ2rYql",
        "colab_type": "text"
      },
      "source": [
        "4)Slicing and iterating of numpy arrays\n"
      ]
    },
    {
      "cell_type": "markdown",
      "metadata": {
        "id": "5tbEJ2FurfSh",
        "colab_type": "text"
      },
      "source": [
        "a) Slicing"
      ]
    },
    {
      "cell_type": "code",
      "metadata": {
        "id": "wV9Ld12ErjmA",
        "colab_type": "code",
        "colab": {
          "base_uri": "https://localhost:8080/",
          "height": 34
        },
        "outputId": "ebafab1f-53ba-4bde-dd16-6bb3df105a45"
      },
      "source": [
        "import numpy as np\n",
        "g = np.array([4,4,3,7,8,3,5,1,9,0])\n",
        "print(g[3:9])"
      ],
      "execution_count": null,
      "outputs": [
        {
          "output_type": "stream",
          "text": [
            "[7 8 3 5 1 9]\n"
          ],
          "name": "stdout"
        }
      ]
    },
    {
      "cell_type": "markdown",
      "metadata": {
        "id": "GZ2GoC0nrrL4",
        "colab_type": "text"
      },
      "source": [
        "b)Iterating"
      ]
    },
    {
      "cell_type": "code",
      "metadata": {
        "id": "QJO15X8eruzt",
        "colab_type": "code",
        "colab": {
          "base_uri": "https://localhost:8080/",
          "height": 188
        },
        "outputId": "f6297e30-18dd-4779-d7d1-218f6bbb86e9"
      },
      "source": [
        "for i in g:\n",
        " print(i)"
      ],
      "execution_count": null,
      "outputs": [
        {
          "output_type": "stream",
          "text": [
            "4\n",
            "4\n",
            "3\n",
            "7\n",
            "8\n",
            "3\n",
            "5\n",
            "1\n",
            "9\n",
            "0\n"
          ],
          "name": "stdout"
        }
      ]
    },
    {
      "cell_type": "markdown",
      "metadata": {
        "id": "z-p3NwwIr23V",
        "colab_type": "text"
      },
      "source": [
        "5)Matrix operations on numpy arrays"
      ]
    },
    {
      "cell_type": "code",
      "metadata": {
        "id": "BXyr4S11r5ub",
        "colab_type": "code",
        "colab": {
          "base_uri": "https://localhost:8080/",
          "height": 120
        },
        "outputId": "dcdaca0e-9b5f-4079-edbb-388d1f5aecf0"
      },
      "source": [
        "import numpy as np\n",
        "h = np.array([[5,9,2],[8,5,6]])\n",
        "i = np.array([[1,2,1],[1,7,1]])\n",
        "print(np.add(h,i))\n",
        "print(np.subtract(h,i))\n",
        "print(np.divide(h,i))"
      ],
      "execution_count": null,
      "outputs": [
        {
          "output_type": "stream",
          "text": [
            "[[ 6 11  3]\n",
            " [ 9 12  7]]\n",
            "[[ 4  7  1]\n",
            " [ 7 -2  5]]\n",
            "[[5.         4.5        2.        ]\n",
            " [8.         0.71428571 6.        ]]\n"
          ],
          "name": "stdout"
        }
      ]
    }
  ]
}